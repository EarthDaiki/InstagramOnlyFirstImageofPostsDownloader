{
 "cells": [
  {
   "cell_type": "markdown",
   "metadata": {},
   "source": [
    "Only first image"
   ]
  },
  {
   "cell_type": "code",
   "execution_count": null,
   "metadata": {},
   "outputs": [],
   "source": [
    "from time import sleep\n",
    "\n",
    "import os\n",
    "import requests\n",
    "from selenium.webdriver.support.wait import WebDriverWait\n",
    "from selenium.webdriver.support import expected_conditions as EC\n",
    "from selenium import webdriver\n",
    "from selenium.webdriver.common.by import By\n",
    "import re\n",
    "import pandas as pd\n",
    "from selenium.webdriver.common.action_chains import ActionChains\n",
    "\n",
    "from webdriver_manager.chrome import ChromeDriverManager\n",
    "\n",
    "driver = webdriver.Chrome(ChromeDriverManager().install())\n",
    "\n",
    "def login():\n",
    "    #login\n",
    "    driver.get('https://www.instagram.com/accounts/login/')\n",
    "\n",
    "    #target username\n",
    "    username = WebDriverWait(driver, 20).until(EC.element_to_be_clickable((By.CSS_SELECTOR, \"input[name='username']\")))\n",
    "    password = WebDriverWait(driver, 20).until(EC.element_to_be_clickable((By.CSS_SELECTOR, \"input[name='password']\")))\n",
    "    # accept_all = WebDriverWait(driver, 10).until(EC.element_to_be_clickable((By.XPATH, '//button[contains(text(), \"Accept All\")]'))).click()\n",
    "    username.clear()\n",
    "    password.clear()\n",
    "    username.send_keys(\"your user id\")\n",
    "    password.send_keys(\"your password\")\n",
    "    button = WebDriverWait(driver, 10).until(EC.element_to_be_clickable((By.CSS_SELECTOR, \"button[type='submit']\"))).click()\n",
    "    #save your login info?\n",
    "    not_now = WebDriverWait(driver, 20).until(EC.element_to_be_clickable((By.XPATH, '//button[contains(text(), \"Not Now\")]'))).click()\n",
    "\n",
    "login()"
   ]
  },
  {
   "cell_type": "markdown",
   "metadata": {},
   "source": [
    "Run only one, hashtag codes or user post codes"
   ]
  },
  {
   "cell_type": "markdown",
   "metadata": {},
   "source": [
    "If you want to scrap Hashtag posts images, use this code↓"
   ]
  },
  {
   "cell_type": "code",
   "execution_count": 40,
   "metadata": {},
   "outputs": [],
   "source": [
    "keyword = \"hashtag name\"\n",
    "sample = f\"https://www.instagram.com/explore/tags/{keyword}/\""
   ]
  },
  {
   "cell_type": "markdown",
   "metadata": {},
   "source": [
    "If you want to scrap User post images, use this code↓"
   ]
  },
  {
   "cell_type": "code",
   "execution_count": 31,
   "metadata": {},
   "outputs": [],
   "source": [
    "keyword = \"user id\"\n",
    "sample = f\"https://www.instagram.com/{keyword}/\""
   ]
  },
  {
   "cell_type": "markdown",
   "metadata": {},
   "source": [
    "How many posts' image do you want to get?"
   ]
  },
  {
   "cell_type": "code",
   "execution_count": 41,
   "metadata": {},
   "outputs": [],
   "source": [
    "posts = 250"
   ]
  },
  {
   "cell_type": "code",
   "execution_count": null,
   "metadata": {},
   "outputs": [],
   "source": [
    "img_data_list = []\n",
    "\n",
    "def main():\n",
    "    website(driver)\n",
    "    while True:\n",
    "        getImg(driver)\n",
    "        if (len(img_data_list) == posts):\n",
    "            print(f\"{len(img_data_list)} photos will be saved\")\n",
    "            break\n",
    "        scroll(driver)\n",
    "    saveImg(f'InstagramDownloadFiles\\OnlyFirstImage\\{keyword}\\Images')\n",
    "\n",
    "def website(driver):\n",
    "    driver.get(sample)\n",
    "\n",
    "def getImg(driver):\n",
    "    sleep(3.5)\n",
    "    article = driver.find_element(By.TAG_NAME, 'article')\n",
    "    imgs = article.find_elements(By.TAG_NAME, 'img')\n",
    "    for i, img in enumerate(imgs):\n",
    "        if (len(img_data_list) == posts):\n",
    "            break\n",
    "        img_data = img.get_attribute('src')\n",
    "        if not img_data in img_data_list:\n",
    "            img_data_list.append(img_data)\n",
    "            print(len(img_data_list))\n",
    "\n",
    "def scroll(driver):\n",
    "    last = ''\n",
    "    imgs = driver.find_elements(By.TAG_NAME, 'img')[-1]\n",
    "    last = imgs\n",
    "    actions = ActionChains(driver)\n",
    "    actions.move_to_element(last).perform()\n",
    "\n",
    "def saveImg(dir_path):\n",
    "    print(\"start saving images\")\n",
    "    if not os.path.exists(dir_path):\n",
    "        os.makedirs(dir_path)\n",
    "    for i, img_data in enumerate(img_data_list):\n",
    "        img_data = requests.get(img_data).content\n",
    "        with open(f'{dir_path}/{keyword}_{i}.png', 'wb') as new_file:\n",
    "            new_file.write(img_data)\n",
    "    print(\"finished\")\n",
    "\n",
    "if __name__ == \"__main__\":\n",
    "    main()"
   ]
  }
 ],
 "metadata": {
  "kernelspec": {
   "display_name": "Python 3.9.13 ('base')",
   "language": "python",
   "name": "python3"
  },
  "language_info": {
   "codemirror_mode": {
    "name": "ipython",
    "version": 3
   },
   "file_extension": ".py",
   "mimetype": "text/x-python",
   "name": "python",
   "nbconvert_exporter": "python",
   "pygments_lexer": "ipython3",
   "version": "3.9.13"
  },
  "orig_nbformat": 4,
  "vscode": {
   "interpreter": {
    "hash": "ad2bdc8ecc057115af97d19610ffacc2b4e99fae6737bb82f5d7fb13d2f2c186"
   }
  }
 },
 "nbformat": 4,
 "nbformat_minor": 2
}
